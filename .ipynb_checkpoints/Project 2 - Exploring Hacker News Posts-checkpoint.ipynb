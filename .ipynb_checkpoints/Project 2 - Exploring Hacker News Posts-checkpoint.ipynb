{
 "cells": [
  {
   "cell_type": "markdown",
   "metadata": {},
   "source": [
    "# Exploring Hacker News Posts\n",
    "\n",
    "We would be using Hacker News Data for our analysis. [Hacker News](https://news.ycombinator.com/) is a social news website focusing on computer Science and enterpreneurship. It was started by the startup incubator [Y Combinator](https://www.ycombinator.com/), where user-submitted stories (known as \"posts\") are voted and commented upon, similar to reddit. Hacker News is extremely popular in technology and startup circles, and posts that make it to the top of Hacker News' listings can get hundreds of thousands of visitors as a result.\n",
    "\n",
    "# Finding and Understanding Data Set\n",
    "\n",
    "We took data set for hacker news post from [here](https://www.kaggle.com/hacker-news/hacker-news-posts/data#)\n",
    "\n",
    "This data set is Hacker News posts from the last 12 months (up to September 26 2016). It has 7 columns and the details about them could be found [here](https://www.kaggle.com/hacker-news/hacker-news-posts/data#)\n",
    "\n",
    "For this guided project and analysis, it has been reduced from almost 300,000 rows to approximately 20,000 rows by removing all submissions that did not receive any comments, and then randomly sampling from the remaining submissions.\n",
    "\n",
    "# Approach Used\n",
    "\n",
    "Since we will be doing a lot of analysis of data set and would be using the same code multiple times, I have created a lot of functions in the project. Everytime we are repeating a task or code, we can use the existing function, hence avoiding multiple lines of code. I am adding definitions and return type of the functions I created below:\n",
    "\n",
    "* explore_data(file, start, end) - used to display data **return None**\n",
    "    - file - list that we want to display\n",
    "    - start - starting index\n",
    "    - end - ending index\n",
    "\n",
    "\n",
    "* avg_of_col(dataset, index) - find the average number of comments or points for different posts **return average in float**\n",
    "    - dataset - Dataset for which you want to find the average of a particular column\n",
    "    - index - index of columns value in int that is use for average\n",
    "\n",
    "\n",
    "* value_by_hour(dataset, index) - find average number of posts and average number of comments or points for different posts by hour **return 2 dictionaries**\n",
    "\n",
    "\n",
    "* avg_by_hour(dataset, index) - find average comments or points per post for different posts by hour, this is nested function and would call value_by_hour **return list of lists**\n",
    "    - post_by_hour - avg number of post per hour dictionary returned by value_by_hour dic\n",
    "\n",
    "\n",
    "* swap_sort(dataset) - This function would swap the average per post and then sort it before we display the results **return a list of lists** "
   ]
  },
  {
   "cell_type": "markdown",
   "metadata": {},
   "source": [
    "# Opening the Data Set\n",
    "\n",
    "Let's start by downloading the .csv file, opening it and saving it as list of lists.\n",
    "\n",
    "I have also saved the header and data separately for analyis purpose."
   ]
  },
  {
   "cell_type": "code",
   "execution_count": 163,
   "metadata": {},
   "outputs": [],
   "source": [
    "#Import library to read csv file\n",
    "\n",
    "from csv import reader\n",
    "\n",
    "#Open, read and save csv file as list of list\n",
    "\n",
    "opened_file = open(\"C:\\\\Users\\\\itika\\\\Desktop\\\\Python\\\\Project 2 - Exploring Hacker News Posts\\\\hacker_news.csv\", encoding = \"utf8\")\n",
    "read_file = reader(opened_file)\n",
    "hn_data = list(read_file)\n",
    "\n",
    "#Separating headers and rest of the data\n",
    "\n",
    "hn_header = hn_data[0]\n",
    "hn = hn_data[1:]"
   ]
  },
  {
   "cell_type": "markdown",
   "metadata": {},
   "source": [
    "# Display and explore the Data Set\n",
    "\n",
    "I am writing a function to explore and display the data set. If we need to look into dataset anytime later, we can use this function."
   ]
  },
  {
   "cell_type": "code",
   "execution_count": 164,
   "metadata": {},
   "outputs": [],
   "source": [
    "#Function to explore data set\n",
    "def explore_data(file, start, end):\n",
    "    for row in file[start:end]:\n",
    "        print(row)\n",
    "        print(\"\\n\")\n",
    "    print('Number of rows:', len(file))\n",
    "    print('Number of columns:', len(file[0]))\n",
    "    "
   ]
  },
  {
   "cell_type": "code",
   "execution_count": 165,
   "metadata": {},
   "outputs": [
    {
     "name": "stdout",
     "output_type": "stream",
     "text": [
      "['id', 'title', 'url', 'num_points', 'num_comments', 'author', 'created_at']\n",
      "\n",
      "\n",
      "['12224879', 'Interactive Dynamic Video', 'http://www.interactivedynamicvideo.com/', '386', '52', 'ne0phyte', '8/4/2016 11:52']\n",
      "\n",
      "\n",
      "['10975351', 'How to Use Open Source and Shut the Fuck Up at the Same Time', 'http://hueniverse.com/2016/01/26/how-to-use-open-source-and-shut-the-fuck-up-at-the-same-time/', '39', '10', 'josep2', '1/26/2016 19:30']\n",
      "\n",
      "\n",
      "['11964716', \"Florida DJs May Face Felony for April Fools' Water Joke\", 'http://www.thewire.com/entertainment/2013/04/florida-djs-april-fools-water-joke/63798/', '2', '1', 'vezycash', '6/23/2016 22:20']\n",
      "\n",
      "\n",
      "['11919867', 'Technology ventures: From Idea to Enterprise', 'https://www.amazon.com/Technology-Ventures-Enterprise-Thomas-Byers/dp/0073523429', '3', '1', 'hswarna', '6/17/2016 0:01']\n",
      "\n",
      "\n",
      "['10301696', 'Note by Note: The Making of Steinway L1037 (2007)', 'http://www.nytimes.com/2007/11/07/movies/07stein.html?_r=0', '8', '2', 'walterbell', '9/30/2015 4:12']\n",
      "\n",
      "\n",
      "Number of rows: 20100\n",
      "Number of columns: 7\n"
     ]
    }
   ],
   "source": [
    "#Print and understand the dataset\n",
    "print(hn_header)\n",
    "print('\\n')\n",
    "explore_data(hn, 0, 5)"
   ]
  },
  {
   "cell_type": "markdown",
   "metadata": {},
   "source": [
    "# Defining our task and goal\n",
    "\n",
    "### For our analysis, we are refering to the posts that start with either *Ask HN* or *Show HN*\n",
    "\n",
    "* Ask HN - Users submit a post to ask questions the Hacker News Community a specific question<br>\n",
    "**Example -** [Ask HN: How do you take notes when reading a book?](https://news.ycombinator.com/item?id=23596471) \n",
    "\n",
    "* Show HN - Users submit a post to show the Hacker news Community a project, product, or just generally something interesting\n",
    "<br>**Example -**[Show HN: My game, Sky Fleet, just went up on Steam](https://news.ycombinator.com/item?id=23609709)\n",
    "\n",
    "### We'll compare these two types of posts to determine the following:\n",
    "\n",
    "* Do Ask HN or Show HN receive more comments on average?\n",
    "* Do posts created at a certain time receive more comments on average?"
   ]
  },
  {
   "cell_type": "markdown",
   "metadata": {},
   "source": [
    "# Extracting Ask HN and Show HN posts\n",
    "\n",
    "Before we start analysing ask HN and show HN posts, we would need to extract them in a separate list.\n",
    "\n",
    "Let's start working on the data set by storing Ask HN, Show HN and other posts in a separate lists."
   ]
  },
  {
   "cell_type": "code",
   "execution_count": 166,
   "metadata": {},
   "outputs": [
    {
     "name": "stdout",
     "output_type": "stream",
     "text": [
      "Number of Ask HN posts:  1744\n",
      "Number of Show HN posts:  1162\n",
      "Number of other posts:  17194\n"
     ]
    }
   ],
   "source": [
    "#Creating empty lists\n",
    "ask_posts = []\n",
    "show_posts = []\n",
    "other_posts = []\n",
    "\n",
    "#looping over our data to extract specific posts\n",
    "for row in hn:\n",
    "    title = row[1].lower()\n",
    "    if title.startswith('ask hn'):\n",
    "        ask_posts.append(row)\n",
    "    elif title.startswith('show hn'):\n",
    "        show_posts.append(row)\n",
    "    else:\n",
    "        other_posts.append(row)\n",
    "\n",
    "print(\"Number of Ask HN posts: \", len(ask_posts))\n",
    "print(\"Number of Show HN posts: \", len(show_posts))\n",
    "print(\"Number of other posts: \", len(other_posts))"
   ]
  },
  {
   "cell_type": "markdown",
   "metadata": {},
   "source": [
    "### Let's start by exploring few rows of Ask HN and Show HN list of lists"
   ]
  },
  {
   "cell_type": "code",
   "execution_count": 167,
   "metadata": {},
   "outputs": [
    {
     "name": "stdout",
     "output_type": "stream",
     "text": [
      "Ask HN Posts:\n",
      "\n",
      "\n",
      "['12210105', 'Ask HN: Looking for Employee #3 How do I do it?', '', '1', '3', 'sph130', '8/2/2016 14:20']\n",
      "\n",
      "\n",
      "['10394168', 'Ask HN: Someone offered to buy my browser extension from me. What now?', '', '28', '17', 'roykolak', '10/15/2015 16:38']\n",
      "\n",
      "\n",
      "['10284812', 'Ask HN: Limiting CPU, memory, and I/O usage on a program for testing', '', '2', '1', 'zatkin', '9/26/2015 23:23']\n",
      "\n",
      "\n",
      "Number of rows: 1744\n",
      "Number of columns: 7\n",
      "\n",
      "*********************************************************************************************\n",
      "\n",
      "Show HN Posts:\n",
      "\n",
      "\n",
      "['12178806', 'Show HN: Webscope  Easy way for web developers to communicate with Clients', 'http://webscopeapp.com', '3', '3', 'fastbrick', '7/28/2016 7:11']\n",
      "\n",
      "\n",
      "['10872799', 'Show HN: GeoScreenshot  Easily test Geo-IP based web pages', 'https://www.geoscreenshot.com/', '1', '9', 'kpsychwave', '1/9/2016 20:45']\n",
      "\n",
      "\n",
      "['11237259', 'Show HN: Run with Mark (Runkeeper only)', 'http://runwithmark.github.io/#/', '3', '3', 'ecesena', '3/7/2016 5:17']\n",
      "\n",
      "\n",
      "Number of rows: 1162\n",
      "Number of columns: 7\n"
     ]
    }
   ],
   "source": [
    "#Using the already created function \n",
    "\n",
    "print(\"Ask HN Posts:\")\n",
    "print(\"\\n\")\n",
    "explore_data(ask_posts, 3, 6)\n",
    "\n",
    "print(\"\\n*********************************************************************************************\\n\")\n",
    "\n",
    "print(\"Show HN Posts:\")\n",
    "print(\"\\n\")\n",
    "explore_data(show_posts, 3, 6)"
   ]
  },
  {
   "cell_type": "markdown",
   "metadata": {},
   "source": [
    "# Do Ask HN or Show HN receive more comments on average?\n",
    "\n",
    "### Step 1 : Calculating the Average number of comments for Ask HN and show HN\n",
    "\n",
    "Let's create a generic function to iterate over the list of lists to calculate the average number of the column values like comments, num_points. \n",
    "\n",
    "From, our data set we know that num_comments are at index 4"
   ]
  },
  {
   "cell_type": "code",
   "execution_count": 168,
   "metadata": {},
   "outputs": [
    {
     "name": "stdout",
     "output_type": "stream",
     "text": [
      "Average number comments posted on Ask HN posts:  14.038417431192661\n",
      "Average number comments posted on Show HN posts:  10.31669535283993\n"
     ]
    }
   ],
   "source": [
    "#Function to find average of a particular columns\n",
    "\n",
    "def avg_of_col(dataset, index):\n",
    "    total_of_col = 0\n",
    "    average_of_col = 0\n",
    "    for row in dataset:\n",
    "        col_value = int(row[index])\n",
    "        total_of_col += col_value\n",
    "    \n",
    "    average_of_col = total_of_col/len(dataset)\n",
    "    \n",
    "    return average_of_col\n",
    "\n",
    "#Passing ask_posts and show_posts to the funtion to find average comments on both posts\n",
    "\n",
    "avg_ask_comments = avg_of_col(ask_posts, 4)\n",
    "avg_show_comments = avg_of_col(show_posts, 4)\n",
    "\n",
    "#Print the average number of comments for both type of posts\n",
    "\n",
    "print(\"Average number comments posted on Ask HN posts: \", avg_ask_comments)\n",
    "print(\"Average number comments posted on Show HN posts: \", avg_show_comments)"
   ]
  },
  {
   "cell_type": "markdown",
   "metadata": {},
   "source": [
    "### Step 2 : Analysing the Average number of comments for Ask HN and show HN\n",
    "\n",
    "From our calculations on data set above, we can clearly see that Ask HN posts receive more posts on an average, which is around 36%. This makes me think that community users are more likely to comment on ask post rather that on show posts. \n",
    "\n",
    "Since Ask HN posts are more likely to receive more comments, we will continue rest of our analysis with ask posts."
   ]
  },
  {
   "cell_type": "markdown",
   "metadata": {},
   "source": [
    "# Do posts created at a certain time receive more comments on average?\n",
    "\n",
    "To determine if an ask post created at a certain time of the day is more likely to get more comments, we need to analyse the data further. \n",
    "\n",
    "To find the average number of comments per post by hour, we would first need to find the number of ask posts created per hour and comments generated for those posts by hour. We can then find the average number of comments per post by hour.\n",
    "\n",
    "Once we have average comments per post for a specific hour we can sort them and analyse the results.\n",
    "\n",
    "Let's work on this step by step:\n",
    "\n",
    "## Calculate the average number of comments ask posts receive by hour created.\n",
    "\n",
    "To accomplish this task, we will created nested functions. First function(avg_by hour) to find the average number of comments per post by hour, this function will call another function(value_by_hour) to find post by hour and comments by hour."
   ]
  },
  {
   "cell_type": "code",
   "execution_count": 169,
   "metadata": {},
   "outputs": [
    {
     "data": {
      "text/plain": [
       "[['09', 5.5777777777777775],\n",
       " ['13', 14.741176470588234],\n",
       " ['10', 13.440677966101696],\n",
       " ['14', 13.233644859813085],\n",
       " ['16', 16.796296296296298],\n",
       " ['23', 7.985294117647059],\n",
       " ['12', 9.41095890410959],\n",
       " ['17', 11.46],\n",
       " ['15', 38.5948275862069],\n",
       " ['21', 16.009174311926607],\n",
       " ['20', 21.525],\n",
       " ['02', 23.810344827586206],\n",
       " ['18', 13.20183486238532],\n",
       " ['03', 7.796296296296297],\n",
       " ['05', 10.08695652173913],\n",
       " ['19', 10.8],\n",
       " ['01', 11.383333333333333],\n",
       " ['22', 6.746478873239437],\n",
       " ['08', 10.25],\n",
       " ['04', 7.170212765957447],\n",
       " ['00', 8.127272727272727],\n",
       " ['06', 9.022727272727273],\n",
       " ['07', 7.852941176470588],\n",
       " ['11', 11.051724137931034]]"
      ]
     },
     "execution_count": 169,
     "metadata": {},
     "output_type": "execute_result"
    }
   ],
   "source": [
    "#Import datetime module as dt\n",
    "\n",
    "import datetime as dt\n",
    "\n",
    "#Function to find posts created per hour and any other corresponding field created per hour\n",
    "\n",
    "def value_by_hour(dataset, index):\n",
    "    \n",
    "#Instantiating empty dictionaries\n",
    "\n",
    "    posts_by_hour = {}\n",
    "    col_value_by_hour = {}\n",
    "\n",
    "    for row in dataset:\n",
    "        hour = row[6]\n",
    "        hour_dt = dt.datetime.strptime(hour, \"%m/%d/%Y %H:%M\")\n",
    "        hour_of_day = hour_dt.strftime(\"%H\")\n",
    "        if hour_of_day not in posts_by_hour:\n",
    "            posts_by_hour[hour_of_day] = 1\n",
    "            col_value_by_hour[hour_of_day] = int(row[index])\n",
    "        else:\n",
    "            posts_by_hour[hour_of_day] += 1\n",
    "            col_value_by_hour[hour_of_day] += int(row[index])\n",
    "    \n",
    "    return posts_by_hour, col_value_by_hour\n",
    "\n",
    "#Function to find average comments by hour\n",
    "#This function would call another function to find post by hour and comments by hour\n",
    "\n",
    "def avg_by_hour(dataset, index):\n",
    "    avg_by_hour = []\n",
    "    \n",
    "    posts_by_hour, total_by_hour = value_by_hour(dataset, index)\n",
    "\n",
    "#Iterate over keys to find average\n",
    "    for hour in total_by_hour:\n",
    "        value = total_by_hour[hour]\n",
    "        posts_count = posts_by_hour[hour]\n",
    "        avg_per_post = value/posts_count\n",
    "        avg_by_hour.append([hour,avg_per_post])\n",
    "    \n",
    "    return avg_by_hour\n",
    "   \n",
    "#Calling the function to find average comments for ask posts by hour\n",
    "avg_comments_by_hour = avg_by_hour(ask_posts, 4)\n",
    "                                  \n",
    "avg_comments_by_hour"
   ]
  },
  {
   "cell_type": "markdown",
   "metadata": {},
   "source": [
    "## Sorting, printing and analysing the results\n",
    "\n",
    "Before we analyse our to data to see if posts created at a particular time received more comments, we need to print the average comments per post by hour in a readable and understandable manner.\n",
    "\n",
    "We will use below steps for that:\n",
    "\n",
    "1. Swap the list avg_by_hour and sort the swaped list in descending order such that highest comments come first i.e. Comments : Hour\n",
    "\n",
    "2. Print the new list in a formated way. eg. 15:00: 38.59 average comments per post\n",
    "\n",
    "### Step 1 : Swap and Sort \n",
    "\n",
    "Below is the function which takes any dataset and give output as a swaped and sorted in descending order"
   ]
  },
  {
   "cell_type": "code",
   "execution_count": 170,
   "metadata": {},
   "outputs": [
    {
     "data": {
      "text/plain": [
       "[[38.5948275862069, '15'],\n",
       " [23.810344827586206, '02'],\n",
       " [21.525, '20'],\n",
       " [16.796296296296298, '16'],\n",
       " [16.009174311926607, '21'],\n",
       " [14.741176470588234, '13'],\n",
       " [13.440677966101696, '10'],\n",
       " [13.233644859813085, '14'],\n",
       " [13.20183486238532, '18'],\n",
       " [11.46, '17'],\n",
       " [11.383333333333333, '01'],\n",
       " [11.051724137931034, '11'],\n",
       " [10.8, '19'],\n",
       " [10.25, '08'],\n",
       " [10.08695652173913, '05'],\n",
       " [9.41095890410959, '12'],\n",
       " [9.022727272727273, '06'],\n",
       " [8.127272727272727, '00'],\n",
       " [7.985294117647059, '23'],\n",
       " [7.852941176470588, '07'],\n",
       " [7.796296296296297, '03'],\n",
       " [7.170212765957447, '04'],\n",
       " [6.746478873239437, '22'],\n",
       " [5.5777777777777775, '09']]"
      ]
     },
     "execution_count": 170,
     "metadata": {},
     "output_type": "execute_result"
    }
   ],
   "source": [
    "#Function for Swap and Sort average by hour\n",
    "\n",
    "def swap_sort(dataset):\n",
    "    swap_avg_by_hour = []\n",
    "    for row in dataset:\n",
    "        swap_avg_by_hour.append([row[1], row[0]])\n",
    "        \n",
    "    sorted_swap = sorted(swap_avg_by_hour, reverse = True)\n",
    "    \n",
    "    return sorted_swap\n",
    "\n",
    "sorted_swap_comments = swap_sort(avg_comments_by_hour)\n",
    "\n",
    "sorted_swap_comments\n",
    "    "
   ]
  },
  {
   "cell_type": "markdown",
   "metadata": {},
   "source": [
    "### Step 2 : Print Top 5 Hours for Ask Posts with highest average Comments\n",
    "\n",
    "For this we would use str.format() method\n"
   ]
  },
  {
   "cell_type": "code",
   "execution_count": 171,
   "metadata": {},
   "outputs": [
    {
     "name": "stdout",
     "output_type": "stream",
     "text": [
      "****************Top 5 Hours for 'Ask HN' Comments****************\n",
      "At 15:00 hour, there were 38.59 average comments per post\n",
      "At 02:00 hour, there were 23.81 average comments per post\n",
      "At 20:00 hour, there were 21.52 average comments per post\n",
      "At 16:00 hour, there were 16.80 average comments per post\n",
      "At 21:00 hour, there were 16.01 average comments per post\n"
     ]
    }
   ],
   "source": [
    "#Print top 5 posts with highest number of comments by hour\n",
    "\n",
    "print(\"****************Top 5 Hours for 'Ask HN' Comments****************\")\n",
    "for avg, hr in sorted_swap_comments[:5]:\n",
    "    print(\n",
    "        \"At {} hour, there were {:.2f} average comments per post\".format(\n",
    "            dt.datetime.strptime(hr, \"%H\").strftime(\"%H:%M\"),avg\n",
    "        )\n",
    "    )"
   ]
  },
  {
   "cell_type": "markdown",
   "metadata": {},
   "source": [
    "# Conclusion Part 1\n",
    "\n",
    "In the resuts above, we can clearly see that the posts generated at 15:00 hour are likely to receive more comments, which is 38.59 average number of comments, in comparison to posts created at any other time. This is 60% more than the post created at 02:00 which is second highest.\n",
    "\n",
    "According to the documentation of the data set, the times are in Eastern time zone format. Since, I am working from Pacific time zone, I can say that posts created at 12:00 PM PST or 3:00 PM EST have higher chance of receiving comments.\n",
    "\n",
    "In this project, we analysed data for Hacker New posts. Instead of using the whole dataset, we excluded the posts without comments. This could give different result all together. We then compared average number of comments for Ask HN and Show HN posts. Based on our results we worked on Ask HN posts to find if post created at any particular hour received more comments in average that any other hour.\n",
    "\n",
    "Given our analysis, it would be more accurate to say that Ask Hacker News posts created between 12:00 PM PST to 1:00 PM PST received the most comments on average."
   ]
  },
  {
   "cell_type": "markdown",
   "metadata": {},
   "source": [
    "# Part 2 : Some Additional Coding and Analysis for fun\n",
    "\n",
    "## Determine if show or ask posts receive more points on average.\n",
    "\n",
    "To find the average number of num_points reveived by Ask HN and Show HN posts, we would use the pre-existing function **avg_of_col(dataset, index)** to find average number of comments for both posts."
   ]
  },
  {
   "cell_type": "code",
   "execution_count": 157,
   "metadata": {},
   "outputs": [
    {
     "name": "stdout",
     "output_type": "stream",
     "text": [
      "Average num_points posted on Ask HN posts:  15.061926605504587\n",
      "Average num_points posted on Show HN posts:  27.555077452667813\n"
     ]
    }
   ],
   "source": [
    "#Passing ask_posts and show_posts to the funtion to find average num_points on both posts \n",
    "avg_ask_points = avg_of_col(ask_posts, 3)\n",
    "\n",
    "avg_show_points = avg_of_col(show_posts, 3)\n",
    "\n",
    "print(\"Average num_points posted on Ask HN posts: \", avg_ask_points)\n",
    "print(\"Average num_points posted on Show HN posts: \", avg_show_points)"
   ]
  },
  {
   "cell_type": "markdown",
   "metadata": {},
   "source": [
    "Based on the results above, we can see that Show HN received 83% more num points than Ask HN posts on an average. So, although Ask HN posts received more comments on an average, Show HN were more liked by users. \n",
    "\n",
    "This is makes complete sense to me because as per the naming of the posts, in Ask HN posts users are looking for answers to their queries and hence the comments while Show HN posts are created to showcase the work that an user did and likely to receive more upvotes."
   ]
  },
  {
   "cell_type": "markdown",
   "metadata": {},
   "source": [
    "## Determine if posts created at a certain time are more likely to receive more points.\n",
    "\n",
    "Since Show HN post has more num points on an average, we will be using Show HN post to check if they are more likely to receive upvotes at a certain time.\n",
    "\n",
    "To determine that we would use the existing function ----\n",
    "\n",
    "**value_by_hour(dataset, index)** to find number of show HN posts by hour and number of points received by hour<br><br>\n",
    "**avg_by_hour(post_by_hour, dataset)** to find average of points received per post by hour"
   ]
  },
  {
   "cell_type": "code",
   "execution_count": 172,
   "metadata": {},
   "outputs": [
    {
     "data": {
      "text/plain": [
       "[['14', 25.430232558139537],\n",
       " ['22', 40.34782608695652],\n",
       " ['18', 36.31147540983606],\n",
       " ['07', 19.0],\n",
       " ['20', 30.316666666666666],\n",
       " ['05', 5.473684210526316],\n",
       " ['16', 28.322580645161292],\n",
       " ['19', 30.945454545454545],\n",
       " ['15', 28.564102564102566],\n",
       " ['03', 25.14814814814815],\n",
       " ['17', 27.107526881720432],\n",
       " ['06', 23.4375],\n",
       " ['02', 11.333333333333334],\n",
       " ['13', 24.626262626262626],\n",
       " ['08', 15.264705882352942],\n",
       " ['21', 18.425531914893618],\n",
       " ['04', 14.846153846153847],\n",
       " ['11', 33.63636363636363],\n",
       " ['12', 41.68852459016394],\n",
       " ['23', 42.388888888888886],\n",
       " ['09', 18.433333333333334],\n",
       " ['01', 25.0],\n",
       " ['10', 18.916666666666668],\n",
       " ['00', 37.83870967741935]]"
      ]
     },
     "execution_count": 172,
     "metadata": {},
     "output_type": "execute_result"
    }
   ],
   "source": [
    "#passing the show posts data in function value_by_hour\n",
    "#function would return two dictionaries posts by hour and points for that post by hour\n",
    "\n",
    "avg_points_by_hour = avg_by_hour(show_posts, 3)\n",
    "\n",
    "avg_points_by_hour"
   ]
  },
  {
   "cell_type": "markdown",
   "metadata": {},
   "source": [
    "Let's swap, sort and print the results\n",
    "\n",
    "For swap and sort, we will use the function **swap_sort(dataset)**"
   ]
  },
  {
   "cell_type": "code",
   "execution_count": 173,
   "metadata": {},
   "outputs": [
    {
     "data": {
      "text/plain": [
       "[[42.388888888888886, '23'],\n",
       " [41.68852459016394, '12'],\n",
       " [40.34782608695652, '22'],\n",
       " [37.83870967741935, '00'],\n",
       " [36.31147540983606, '18'],\n",
       " [33.63636363636363, '11'],\n",
       " [30.945454545454545, '19'],\n",
       " [30.316666666666666, '20'],\n",
       " [28.564102564102566, '15'],\n",
       " [28.322580645161292, '16'],\n",
       " [27.107526881720432, '17'],\n",
       " [25.430232558139537, '14'],\n",
       " [25.14814814814815, '03'],\n",
       " [25.0, '01'],\n",
       " [24.626262626262626, '13'],\n",
       " [23.4375, '06'],\n",
       " [19.0, '07'],\n",
       " [18.916666666666668, '10'],\n",
       " [18.433333333333334, '09'],\n",
       " [18.425531914893618, '21'],\n",
       " [15.264705882352942, '08'],\n",
       " [14.846153846153847, '04'],\n",
       " [11.333333333333334, '02'],\n",
       " [5.473684210526316, '05']]"
      ]
     },
     "execution_count": 173,
     "metadata": {},
     "output_type": "execute_result"
    }
   ],
   "source": [
    "#Calling the function to swap and sort the average point by hour\n",
    "\n",
    "sorted_swap_points = swap_sort(avg_points_by_hour)\n",
    "\n",
    "sorted_swap_points"
   ]
  },
  {
   "cell_type": "code",
   "execution_count": 174,
   "metadata": {},
   "outputs": [
    {
     "name": "stdout",
     "output_type": "stream",
     "text": [
      "****************Top 5 Hours for 'Show HN' Points****************\n",
      "At 23:00 hour, there were 42.39 average upvotes per post\n",
      "At 12:00 hour, there were 41.69 average upvotes per post\n",
      "At 22:00 hour, there were 40.35 average upvotes per post\n",
      "At 00:00 hour, there were 37.84 average upvotes per post\n",
      "At 18:00 hour, there were 36.31 average upvotes per post\n"
     ]
    }
   ],
   "source": [
    "#Print top 5 posts with highest number of points by hour\n",
    "\n",
    "print(\"****************Top 5 Hours for 'Show HN' Points****************\")\n",
    "for avg, hr in sorted_swap_points[:5]:\n",
    "    print(\n",
    "        \"At {} hour, there were {:.2f} average upvotes per post\".format(\n",
    "            dt.datetime.strptime(hr, \"%H\").strftime(\"%H:%M\"),avg\n",
    "        )\n",
    "    )"
   ]
  },
  {
   "cell_type": "markdown",
   "metadata": {},
   "source": [
    "From above results, we can say that on an average a show post received more points or upvotes at 23:00 hour EST or 11:00 PM EST. Also, top 3 show posts have almost the same average number of upvotes per post."
   ]
  },
  {
   "cell_type": "markdown",
   "metadata": {},
   "source": [
    "### Compare your results to the average number of comments and points other posts receive.\n",
    "\n",
    "We have average number of comments and points for Ask HN and Show HN from earlier analysis.\n",
    "\n",
    "Lets first find the average number of comments and points for other posts. We will use pre-existing functions for that **avg_of_col(dataset, index)** \n"
   ]
  },
  {
   "cell_type": "code",
   "execution_count": 161,
   "metadata": {},
   "outputs": [],
   "source": [
    "#Passing other posts data to find average number of comments on other posts\n",
    "avg_other_comments = avg_of_col(other_posts, 4)\n",
    "\n",
    "#Passing other posts data to find average number of comments on other posts\n",
    "avg_other_points = avg_of_col(other_posts, 3)\n",
    "\n"
   ]
  },
  {
   "cell_type": "code",
   "execution_count": 162,
   "metadata": {},
   "outputs": [
    {
     "name": "stdout",
     "output_type": "stream",
     "text": [
      "######################Average Number of comments for all the posts######################\n",
      "\n",
      "\n",
      "On an average Show HN posts received 10.32 comments per post\n",
      "On an average Ask HN posts received 14.04 comments per post\n",
      "On an average Other posts received 26.87 comments per post\n",
      "\n",
      "\n",
      "\n",
      "######################Average Number of Upvotes for all the posts######################\n",
      "\n",
      "\n",
      "Average number of upvotes received by Show HN posts are 27.56\n",
      "Average number of upvotes received by Ask HN posts are 15.06\n",
      "Average number of upvotes received by Other posts are 55.41\n"
     ]
    }
   ],
   "source": [
    "#Display average number of comments received by Show HN, Ask HN and Other posts\n",
    "\n",
    "print(\"######################Average Number of comments for all the posts######################\")\n",
    "print(\"\\n\")\n",
    "print(\"On an average Show HN posts received {:.2f} comments per post\".format(avg_show_comments))\n",
    "print(\"On an average Ask HN posts received {:.2f} comments per post\".format(avg_ask_comments))\n",
    "print(\"On an average Other posts received {:.2f} comments per post\".format(avg_other_comments))\n",
    "print(\"\\n\\n\")\n",
    "\n",
    "#Display average number of points received by Show HN, Ask HN and Other posts\n",
    "\n",
    "print(\"######################Average Number of Upvotes for all the posts######################\")\n",
    "print(\"\\n\")\n",
    "print(\"Average number of upvotes received by Show HN posts are {:.2f}\".format(avg_show_points))\n",
    "print(\"Average number of upvotes received by Ask HN posts are {:.2f}\".format(avg_ask_points))\n",
    "print(\"Average number of upvotes received by Other posts are {:.2f}\".format(avg_other_points))"
   ]
  },
  {
   "cell_type": "markdown",
   "metadata": {},
   "source": [
    "Above results show that although Ask post received more comments that Show posts and Show posts received more upvotes, all other posts received way more comments and point than both of them together, which is 26.87 comments per post or around 52% in total and 55.41 points per post or 57% in total."
   ]
  },
  {
   "cell_type": "markdown",
   "metadata": {},
   "source": [
    "# Final Conclusion\n",
    "\n",
    "To summarize, all other posts received more comments(52%) and upvotes(57%) in comparison to ask and show posts togethor. Ask post received more comments per post in comparison to show post but show posts received more upvotes in comparison to ask posts.\n",
    "\n",
    "It would be a good idea to post a Ask HN between 12:00 PM to 3:00 PM PST since that was when highest number of comments per post were added. Also, best time to create show HN post is between 9:00 AM - 10:00 AM or 7:00 PM to 9:00 PM PST, these are hours when Show post received maximum number of upvotes. "
   ]
  }
 ],
 "metadata": {
  "kernelspec": {
   "display_name": "Python 3",
   "language": "python",
   "name": "python3"
  },
  "language_info": {
   "codemirror_mode": {
    "name": "ipython",
    "version": 3
   },
   "file_extension": ".py",
   "mimetype": "text/x-python",
   "name": "python",
   "nbconvert_exporter": "python",
   "pygments_lexer": "ipython3",
   "version": "3.7.4"
  }
 },
 "nbformat": 4,
 "nbformat_minor": 2
}
